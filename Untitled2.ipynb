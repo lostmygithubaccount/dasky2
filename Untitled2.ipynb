{
 "metadata": {
  "language_info": {
   "codemirror_mode": {
    "name": "ipython",
    "version": 3
   },
   "file_extension": ".py",
   "mimetype": "text/x-python",
   "name": "python",
   "nbconvert_exporter": "python",
   "pygments_lexer": "ipython3",
   "version": "3.8.5-final"
  },
  "orig_nbformat": 2,
  "kernelspec": {
   "name": "python3",
   "display_name": "Python 3"
  }
 },
 "nbformat": 4,
 "nbformat_minor": 2,
 "cells": [
  {
   "cell_type": "code",
   "execution_count": 2,
   "metadata": {},
   "outputs": [
    {
     "output_type": "stream",
     "name": "stdout",
     "text": [
      "Collecting dask\n",
      "  Using cached dask-2.30.0-py3-none-any.whl (848 kB)\n",
      "Collecting bokeh\n",
      "  Using cached bokeh-2.2.2.tar.gz (8.8 MB)\n",
      "Collecting distributed\n",
      "  Using cached distributed-2.30.0-py3-none-any.whl (656 kB)\n",
      "Collecting asyncssh\n",
      "  Downloading asyncssh-2.4.2-py3-none-any.whl (279 kB)\n",
      "\u001b[K     |████████████████████████████████| 279 kB 4.7 MB/s \n",
      "\u001b[?25hRequirement already satisfied, skipping upgrade: pyyaml in /anaconda/envs/azureml_py36/lib/python3.6/site-packages (from dask) (5.3.1)\n",
      "Requirement already satisfied, skipping upgrade: python-dateutil>=2.1 in /anaconda/envs/azureml_py36/lib/python3.6/site-packages (from bokeh) (2.8.1)\n",
      "Requirement already satisfied, skipping upgrade: Jinja2>=2.7 in /anaconda/envs/azureml_py36/lib/python3.6/site-packages (from bokeh) (2.11.2)\n",
      "Requirement already satisfied, skipping upgrade: numpy>=1.11.3 in /anaconda/envs/azureml_py36/lib/python3.6/site-packages (from bokeh) (1.18.5)\n",
      "Collecting pillow>=7.1.0\n",
      "  Downloading Pillow-8.0.0-cp36-cp36m-manylinux1_x86_64.whl (2.2 MB)\n",
      "\u001b[K     |████████████████████████████████| 2.2 MB 16.1 MB/s \n",
      "\u001b[?25hRequirement already satisfied, skipping upgrade: packaging>=16.8 in /anaconda/envs/azureml_py36/lib/python3.6/site-packages (from bokeh) (20.4)\n",
      "Requirement already satisfied, skipping upgrade: tornado>=5.1 in /anaconda/envs/azureml_py36/lib/python3.6/site-packages (from bokeh) (6.0.4)\n",
      "Requirement already satisfied, skipping upgrade: typing_extensions>=3.7.4 in /anaconda/envs/azureml_py36/lib/python3.6/site-packages (from bokeh) (3.7.4.3)\n",
      "Requirement already satisfied, skipping upgrade: click>=6.6 in /anaconda/envs/azureml_py36/lib/python3.6/site-packages (from distributed) (7.1.2)\n",
      "Requirement already satisfied, skipping upgrade: msgpack>=0.6.0 in /anaconda/envs/azureml_py36/lib/python3.6/site-packages (from distributed) (1.0.0)\n",
      "Collecting zict>=0.1.3\n",
      "  Downloading zict-2.0.0-py3-none-any.whl (10 kB)\n",
      "Collecting tblib>=1.6.0\n",
      "  Downloading tblib-1.7.0-py2.py3-none-any.whl (12 kB)\n",
      "Collecting sortedcontainers!=2.0.0,!=2.0.1\n",
      "  Downloading sortedcontainers-2.2.2-py2.py3-none-any.whl (29 kB)\n",
      "Requirement already satisfied, skipping upgrade: contextvars; python_version < \"3.7\" in /anaconda/envs/azureml_py36/lib/python3.6/site-packages (from distributed) (2.4)\n",
      "Requirement already satisfied, skipping upgrade: cloudpickle>=1.5.0 in /anaconda/envs/azureml_py36/lib/python3.6/site-packages (from distributed) (1.6.0)\n",
      "Collecting toolz>=0.8.2\n",
      "  Downloading toolz-0.11.1-py3-none-any.whl (55 kB)\n",
      "\u001b[K     |████████████████████████████████| 55 kB 2.8 MB/s \n",
      "\u001b[?25hRequirement already satisfied, skipping upgrade: psutil>=5.0 in /anaconda/envs/azureml_py36/lib/python3.6/site-packages (from distributed) (5.7.2)\n",
      "Requirement already satisfied, skipping upgrade: setuptools in /anaconda/envs/azureml_py36/lib/python3.6/site-packages (from distributed) (50.3.0.post20201006)\n",
      "Requirement already satisfied, skipping upgrade: cryptography>=2.8 in /anaconda/envs/azureml_py36/lib/python3.6/site-packages (from asyncssh) (3.1.1)\n",
      "Requirement already satisfied, skipping upgrade: six>=1.5 in /anaconda/envs/azureml_py36/lib/python3.6/site-packages (from python-dateutil>=2.1->bokeh) (1.15.0)\n",
      "Requirement already satisfied, skipping upgrade: MarkupSafe>=0.23 in /anaconda/envs/azureml_py36/lib/python3.6/site-packages (from Jinja2>=2.7->bokeh) (1.1.1)\n",
      "Requirement already satisfied, skipping upgrade: pyparsing>=2.0.2 in /anaconda/envs/azureml_py36/lib/python3.6/site-packages (from packaging>=16.8->bokeh) (2.4.7)\n",
      "Collecting heapdict\n",
      "  Downloading HeapDict-1.0.1-py3-none-any.whl (3.9 kB)\n",
      "Requirement already satisfied, skipping upgrade: immutables>=0.9 in /anaconda/envs/azureml_py36/lib/python3.6/site-packages (from contextvars; python_version < \"3.7\"->distributed) (0.14)\n",
      "Requirement already satisfied, skipping upgrade: cffi!=1.11.3,>=1.8 in /anaconda/envs/azureml_py36/lib/python3.6/site-packages (from cryptography>=2.8->asyncssh) (1.14.3)\n",
      "Requirement already satisfied, skipping upgrade: pycparser in /anaconda/envs/azureml_py36/lib/python3.6/site-packages (from cffi!=1.11.3,>=1.8->cryptography>=2.8->asyncssh) (2.20)\n",
      "Building wheels for collected packages: bokeh\n",
      "  Building wheel for bokeh (setup.py) ... \u001b[?25ldone\n",
      "\u001b[?25h  Created wheel for bokeh: filename=bokeh-2.2.2-py3-none-any.whl size=9295654 sha256=e069b5c3f69096b540825df46df8ea45f7521c2307c10765e75e348b715368f4\n",
      "  Stored in directory: /home/azureuser/.cache/pip/wheels/31/f4/ae/c9d0f55edd7e168263887f650edea7b7f77eb3c4f2db4abf71\n",
      "Successfully built bokeh\n",
      "Installing collected packages: dask, pillow, bokeh, heapdict, zict, tblib, sortedcontainers, toolz, distributed, asyncssh\n",
      "  Attempting uninstall: pillow\n",
      "    Found existing installation: Pillow 6.2.1\n",
      "    Uninstalling Pillow-6.2.1:\n",
      "      Successfully uninstalled Pillow-6.2.1\n",
      "Successfully installed asyncssh-2.4.2 bokeh-2.2.2 dask-2.30.0 distributed-2.30.0 heapdict-1.0.1 pillow-8.0.0 sortedcontainers-2.2.2 tblib-1.7.0 toolz-0.11.1 zict-2.0.0\n"
     ]
    }
   ],
   "source": [
    "!pip install --upgrade dask bokeh distributed asyncssh"
   ]
  },
  {
   "cell_type": "code",
   "execution_count": 4,
   "metadata": {},
   "outputs": [
    {
     "output_type": "execute_result",
     "data": {
      "text/plain": [
       "Workspace.create(name='default', subscription_id='6560575d-fa06-4e7d-95fb-f962e74efd7a', resource_group='azureml-examples')"
      ]
     },
     "metadata": {},
     "execution_count": 4
    }
   ],
   "source": [
    "from azureml.core import Workspace \n",
    "\n",
    "ws = Workspace.from_config()\n",
    "ws"
   ]
  },
  {
   "cell_type": "code",
   "execution_count": 6,
   "metadata": {},
   "outputs": [],
   "source": [
    "from distributed import SSHCluster"
   ]
  },
  {
   "cell_type": "code",
   "execution_count": 7,
   "metadata": {},
   "outputs": [],
   "source": [
    "from azureml.core import Environment, ScriptRunConfig "
   ]
  },
  {
   "cell_type": "code",
   "execution_count": null,
   "metadata": {},
   "outputs": [],
   "source": [
    "env = Environment.from_conda_specification(\"environments/dask.yml\")\n",
    "env"
   ]
  }
 ]
}